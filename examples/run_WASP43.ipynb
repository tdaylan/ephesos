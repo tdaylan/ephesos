{
 "cells": [
  {
   "cell_type": "code",
   "execution_count": 1,
   "id": "81321e0c",
   "metadata": {
    "scrolled": true
   },
   "outputs": [
    {
     "ename": "SyntaxError",
     "evalue": "invalid syntax (main.py, line 5948)",
     "output_type": "error",
     "traceback": [
      "Traceback \u001b[0;36m(most recent call last)\u001b[0m:\n",
      "  File \u001b[1;32m\"/Users/tdaylan/anaconda2/envs/mypython3/lib/python3.7/site-packages/IPython/core/interactiveshell.py\"\u001b[0m, line \u001b[1;32m3296\u001b[0m, in \u001b[1;35mrun_code\u001b[0m\n    exec(code_obj, self.user_global_ns, self.user_ns)\n",
      "  File \u001b[1;32m\"<ipython-input-1-e656278f250d>\"\u001b[0m, line \u001b[1;32m3\u001b[0m, in \u001b[1;35m<module>\u001b[0m\n    import ephesos\n",
      "\u001b[0;36m  File \u001b[0;32m\"/Users/tdaylan/Documents/work/git/ephesos/ephesos/__init__.py\"\u001b[0;36m, line \u001b[0;32m1\u001b[0;36m, in \u001b[0;35m<module>\u001b[0;36m\u001b[0m\n\u001b[0;31m    from .main import *\u001b[0m\n",
      "\u001b[0;36m  File \u001b[0;32m\"/Users/tdaylan/Documents/work/git/ephesos/ephesos/main.py\"\u001b[0;36m, line \u001b[0;32m5948\u001b[0m\n\u001b[0;31m    listnamevarbtotl = dictefes['dictinpt'].keys())\u001b[0m\n\u001b[0m                                                  ^\u001b[0m\n\u001b[0;31mSyntaxError\u001b[0m\u001b[0;31m:\u001b[0m invalid syntax\n"
     ]
    }
   ],
   "source": [
    "import numpy as np\n",
    "\n",
    "import ephesos\n",
    "\n",
    "'''\n",
    "Make and visualize stars with companions and their relative flux light curves\n",
    "'''\n",
    "\n",
    "# path of the folder for visuals\n",
    "pathbase = '/path/to/folder/'\n",
    "\n",
    "import sys, os\n",
    "pathbase = os.environ['EPHESOS_DATA_PATH'] + '/'\n",
    "pathimag = pathbase + 'imag/lightCurve/'\n",
    "os.system('mkdir -p %s' % pathimag)\n",
    "\n",
    "# determine the times at which the light curve will be sampled\n",
    "## cadence\n",
    "cade = 30. / 24. / 60. / 60. # [days]\n",
    "## time array\n",
    "time = np.arange(-0.25, 0.75, cade) # [days]\n",
    "\n",
    "typetarg = 'WASP-43'\n",
    "\n",
    "dictefesinpt = dict()\n",
    "dictefesinpt['rratcomp'] = [0.1615] # (Patel & Espinoza 2022)\n",
    "dictefesinpt['coeflmdk'] = [0.1, 0.05]\n",
    "dictefesinpt['epocmtracomp'] = [0.]\n",
    "dictefesinpt['pericomp'] = [0.813475]\n",
    "dictefesinpt['offsphascomp'] = [30.]\n",
    "dictefesinpt['cosicomp'] = [0.134]\n",
    "dictefesinpt['rsmacomp'] = [0.21]\n",
    "dictefesinpt['resoplan'] = 0.01\n",
    "dictefesinpt['tolerrat'] = 0.005\n",
    "dictefesinpt['typebrgtcomp'] = 'sinusoidal'\n",
    "dictefesinpt['typelmdk'] = 'quad'\n",
    "#dictefesinpt['pathfoldanim'] = pathimag\n",
    "dictefesinpt['typeverb'] = 1\n",
    "#dictefesinpt['strgtitl'] = strgtitl\n",
    "\n",
    "# generate light curve\n",
    "dictefes = ephesos.eval_modl(time, typesyst='psyspcur', **dictefesinpt)\n",
    "\n",
    "# plot the light curve\n",
    "ephesos.plot_modllcur_phas(pathimag, dictefes)"
   ]
  },
  {
   "cell_type": "code",
   "execution_count": null,
   "id": "ef65dc23",
   "metadata": {},
   "outputs": [],
   "source": []
  }
 ],
 "metadata": {
  "kernelspec": {
   "display_name": "Python 3",
   "language": "python",
   "name": "python3"
  },
  "language_info": {
   "codemirror_mode": {
    "name": "ipython",
    "version": 3
   },
   "file_extension": ".py",
   "mimetype": "text/x-python",
   "name": "python",
   "nbconvert_exporter": "python",
   "pygments_lexer": "ipython3",
   "version": "3.7.1"
  }
 },
 "nbformat": 4,
 "nbformat_minor": 5
}
