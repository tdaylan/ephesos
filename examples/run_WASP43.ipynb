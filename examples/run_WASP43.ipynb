{
 "cells": [
  {
   "cell_type": "code",
   "execution_count": 1,
   "id": "81321e0c",
   "metadata": {},
   "outputs": [
    {
     "ename": "KeyError",
     "evalue": "'EPHESOS_DATA_PATH'",
     "output_type": "error",
     "traceback": [
      "\u001b[0;31m---------------------------------------------------------------------------\u001b[0m",
      "\u001b[0;31mKeyError\u001b[0m                                  Traceback (most recent call last)",
      "\u001b[0;32m<ipython-input-1-bbedbf6c61e0>\u001b[0m in \u001b[0;36m<module>\u001b[0;34m\u001b[0m\n\u001b[1;32m     11\u001b[0m \u001b[0;34m\u001b[0m\u001b[0m\n\u001b[1;32m     12\u001b[0m \u001b[0;32mimport\u001b[0m \u001b[0msys\u001b[0m\u001b[0;34m,\u001b[0m \u001b[0mos\u001b[0m\u001b[0;34m\u001b[0m\u001b[0;34m\u001b[0m\u001b[0m\n\u001b[0;32m---> 13\u001b[0;31m \u001b[0mpathbase\u001b[0m \u001b[0;34m=\u001b[0m \u001b[0mos\u001b[0m\u001b[0;34m.\u001b[0m\u001b[0menviron\u001b[0m\u001b[0;34m[\u001b[0m\u001b[0;34m'EPHESOS_DATA_PATH'\u001b[0m\u001b[0;34m]\u001b[0m \u001b[0;34m+\u001b[0m \u001b[0;34m'/'\u001b[0m\u001b[0;34m\u001b[0m\u001b[0;34m\u001b[0m\u001b[0m\n\u001b[0m\u001b[1;32m     14\u001b[0m \u001b[0mpathimag\u001b[0m \u001b[0;34m=\u001b[0m \u001b[0mpathbase\u001b[0m \u001b[0;34m+\u001b[0m \u001b[0;34m'imag/lightCurve/'\u001b[0m\u001b[0;34m\u001b[0m\u001b[0;34m\u001b[0m\u001b[0m\n\u001b[1;32m     15\u001b[0m \u001b[0mos\u001b[0m\u001b[0;34m.\u001b[0m\u001b[0msystem\u001b[0m\u001b[0;34m(\u001b[0m\u001b[0;34m'mkdir -p %s'\u001b[0m \u001b[0;34m%\u001b[0m \u001b[0mpathimag\u001b[0m\u001b[0;34m)\u001b[0m\u001b[0;34m\u001b[0m\u001b[0;34m\u001b[0m\u001b[0m\n",
      "\u001b[0;32m~/anaconda2/envs/mypython3/lib/python3.7/os.py\u001b[0m in \u001b[0;36m__getitem__\u001b[0;34m(self, key)\u001b[0m\n\u001b[1;32m    676\u001b[0m         \u001b[0;32mexcept\u001b[0m \u001b[0mKeyError\u001b[0m\u001b[0;34m:\u001b[0m\u001b[0;34m\u001b[0m\u001b[0;34m\u001b[0m\u001b[0m\n\u001b[1;32m    677\u001b[0m             \u001b[0;31m# raise KeyError with the original key value\u001b[0m\u001b[0;34m\u001b[0m\u001b[0;34m\u001b[0m\u001b[0;34m\u001b[0m\u001b[0m\n\u001b[0;32m--> 678\u001b[0;31m             \u001b[0;32mraise\u001b[0m \u001b[0mKeyError\u001b[0m\u001b[0;34m(\u001b[0m\u001b[0mkey\u001b[0m\u001b[0;34m)\u001b[0m \u001b[0;32mfrom\u001b[0m \u001b[0;32mNone\u001b[0m\u001b[0;34m\u001b[0m\u001b[0;34m\u001b[0m\u001b[0m\n\u001b[0m\u001b[1;32m    679\u001b[0m         \u001b[0;32mreturn\u001b[0m \u001b[0mself\u001b[0m\u001b[0;34m.\u001b[0m\u001b[0mdecodevalue\u001b[0m\u001b[0;34m(\u001b[0m\u001b[0mvalue\u001b[0m\u001b[0;34m)\u001b[0m\u001b[0;34m\u001b[0m\u001b[0;34m\u001b[0m\u001b[0m\n\u001b[1;32m    680\u001b[0m \u001b[0;34m\u001b[0m\u001b[0m\n",
      "\u001b[0;31mKeyError\u001b[0m: 'EPHESOS_DATA_PATH'"
     ]
    }
   ],
   "source": [
    "import numpy as np\n",
    "\n",
    "import ephesos\n",
    "\n",
    "'''\n",
    "Make and visualize stars with companions and their relative flux light curves\n",
    "'''\n",
    "\n",
    "# path of the folder for visuals\n",
    "pathbase = '/path/to/folder/'\n",
    "\n",
    "import sys, os\n",
    "pathbase = os.environ['EPHESOS_DATA_PATH'] + '/'\n",
    "pathimag = pathbase + 'imag/lightCurve/'\n",
    "os.system('mkdir -p %s' % pathimag)\n",
    "\n",
    "# determine the times at which the light curve will be sampled\n",
    "## cadence\n",
    "cade = 30. / 24. / 60. / 60. # [days]\n",
    "## time array\n",
    "time = np.arange(-0.25, 0.75, cade) # [days]\n",
    "\n",
    "typetarg = 'WASP-43'\n",
    "\n",
    "dictefesinpt = dict()\n",
    "dictefesinpt['rratcomp'] = 0.1615 # (Patel & Espinoza 2022)\n",
    "dictefesinpt['coeflmdklinr'] = 0.1\n",
    "dictefesinpt['coeflmdkquad'] = 0.05\n",
    "dictefesinpt['epocmtracomp'] = 0.\n",
    "dictefesinpt['pericomp'] = 0.813475\n",
    "dictefesinpt['offsphascomp'] = 30.\n",
    "dictefesinpt['cosicomp'] = 0.134\n",
    "dictefesinpt['rsmacomp'] = 0.21\n",
    "dictefesinpt['resoplan'] = 0.01\n",
    "dictefesinpt['tolerrat'] = 0.005\n",
    "dictefesinpt['typebrgtcomp'] = 'sinusoidal'\n",
    "dictefesinpt['offsphas'] = 0.\n",
    "dictefesinpt['typelmdk'] = 'quad'\n",
    "dictefesinpt['pathfoldanim'] = pathimag\n",
    "dictefesinpt['typeverb'] = 1\n",
    "#dictefesinpt['strgtitl'] = strgtitl\n",
    "\n",
    "# generate light curve\n",
    "dictefes = ephesos.retr_rflxtranmodl(time, typesyst='psyspcur', **dictefesinpt)\n",
    "\n",
    "# plot the light curve\n",
    "ephesos.plot_modllcur_phas(pathimag, dictefes)"
   ]
  },
  {
   "cell_type": "code",
   "execution_count": null,
   "id": "ef65dc23",
   "metadata": {},
   "outputs": [],
   "source": []
  }
 ],
 "metadata": {
  "kernelspec": {
   "display_name": "Python 3",
   "language": "python",
   "name": "python3"
  },
  "language_info": {
   "codemirror_mode": {
    "name": "ipython",
    "version": 3
   },
   "file_extension": ".py",
   "mimetype": "text/x-python",
   "name": "python",
   "nbconvert_exporter": "python",
   "pygments_lexer": "ipython3",
   "version": "3.7.1"
  }
 },
 "nbformat": 4,
 "nbformat_minor": 5
}
