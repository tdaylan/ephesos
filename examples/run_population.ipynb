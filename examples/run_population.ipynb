{
 "cells": [
  {
   "cell_type": "markdown",
   "id": "eefb1be2",
   "metadata": {
    "slideshow": {
     "slide_type": "subslide"
    }
   },
   "source": [
    "# Using ephesos to extract light curve features of a population of systems"
   ]
  },
  {
   "cell_type": "code",
   "execution_count": null,
   "id": "882988d3",
   "metadata": {},
   "outputs": [],
   "source": [
    "import numpy as np\n",
    "import ephesos"
   ]
  },
  {
   "cell_type": "code",
   "execution_count": 18,
   "id": "032ea6b7",
   "metadata": {
    "scrolled": true
   },
   "outputs": [
    {
     "name": "stdout",
     "output_type": "stream",
     "text": [
      "listepoc\n",
      "hey\n"
     ]
    }
   ],
   "source": [
    "epoc = 0.5\n",
    "peri = 3.\n",
    "time = np.arange(0., 10., 1. / 3600.)\n",
    "listepoc = ephesos.retr_listepoctran(time, epoc, peri)"
   ]
  },
  {
   "cell_type": "markdown",
   "id": "bd0ad7e3",
   "metadata": {},
   "source": [
    "The transit epochs are as follows."
   ]
  },
  {
   "cell_type": "code",
   "execution_count": 19,
   "id": "7f0f68ef",
   "metadata": {},
   "outputs": [
    {
     "name": "stdout",
     "output_type": "stream",
     "text": [
      "[0.5 3.5 6.5 9.5]\n",
      "jnj\n"
     ]
    }
   ],
   "source": [
    "print(listepoc)"
   ]
  },
  {
   "cell_type": "code",
   "execution_count": null,
   "id": "ce91481c",
   "metadata": {},
   "outputs": [],
   "source": []
  },
  {
   "cell_type": "code",
   "execution_count": null,
   "id": "14104159",
   "metadata": {},
   "outputs": [],
   "source": []
  }
 ],
 "metadata": {
  "celltoolbar": "Slideshow",
  "kernelspec": {
   "display_name": "Python 3",
   "language": "python",
   "name": "python3"
  },
  "language_info": {
   "codemirror_mode": {
    "name": "ipython",
    "version": 3
   },
   "file_extension": ".py",
   "mimetype": "text/x-python",
   "name": "python",
   "nbconvert_exporter": "python",
   "pygments_lexer": "ipython3",
   "version": "3.7.1"
  }
 },
 "nbformat": 4,
 "nbformat_minor": 5
}
